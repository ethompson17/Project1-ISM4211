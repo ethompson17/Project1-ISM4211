{
 "cells": [
  {
   "cell_type": "markdown",
   "id": "7a831de3",
   "metadata": {},
   "source": [
    "# Eli Thompson, Panther ID: 6268592"
   ]
  },
  {
   "cell_type": "code",
   "execution_count": 171,
   "id": "98a0a774",
   "metadata": {},
   "outputs": [],
   "source": [
    "import pandas as pd\n",
    "import matplotlib.pyplot as plt\n",
    "\n",
    "df = pd.read_csv('data.csv')"
   ]
  },
  {
   "cell_type": "markdown",
   "id": "33e91165",
   "metadata": {},
   "source": [
    "# Exercise One"
   ]
  },
  {
   "cell_type": "markdown",
   "id": "69b7661e",
   "metadata": {},
   "source": [
    "### 1. How many movie titles mention the  United States?"
   ]
  },
  {
   "cell_type": "code",
   "execution_count": 162,
   "id": "1e13856a",
   "metadata": {},
   "outputs": [
    {
     "name": "stdout",
     "output_type": "stream",
     "text": [
      "2\n"
     ]
    }
   ],
   "source": [
    "movietitles_unitedstates = df[df['title'].str.contains('United States')]\n",
    "\n",
    "movietitles_unitedstatescount = movietitles_unitedstates.title.count()\n",
    "\n",
    "print(movietitles_unitedstatescount)"
   ]
  },
  {
   "cell_type": "markdown",
   "id": "78d2c1e9",
   "metadata": {},
   "source": [
    "### 2. How many movie descriptions mention the United States?"
   ]
  },
  {
   "cell_type": "code",
   "execution_count": 158,
   "id": "837592e2",
   "metadata": {},
   "outputs": [
    {
     "name": "stdout",
     "output_type": "stream",
     "text": [
      "5\n"
     ]
    }
   ],
   "source": [
    "unitedstates_moviedescriptions = df[df['description'].str.contains('United States')]\n",
    "\n",
    "moviedescriptionscount = unitedstates_moviedescriptions.title.count()\n",
    "\n",
    "print(moviedescriptionscount)"
   ]
  },
  {
   "cell_type": "markdown",
   "id": "aaabdc40",
   "metadata": {},
   "source": [
    "### 3. How many movies are from the United States?"
   ]
  },
  {
   "cell_type": "code",
   "execution_count": 159,
   "id": "b8b8c691",
   "metadata": {
    "scrolled": true
   },
   "outputs": [
    {
     "name": "stdout",
     "output_type": "stream",
     "text": [
      "3291\n"
     ]
    }
   ],
   "source": [
    "df_unitedstates = df[df['country'].str.contains('United States', case = False, na = False)]\n",
    "\n",
    "moviesunitedstates = df_unitedstates.title.count()\n",
    "\n",
    "print(moviesunitedstates)"
   ]
  },
  {
   "cell_type": "markdown",
   "id": "b918d12b",
   "metadata": {},
   "source": [
    "# Exercise Two"
   ]
  },
  {
   "cell_type": "markdown",
   "id": "047654a2",
   "metadata": {},
   "source": [
    "### Write a function to receive any name as input, search the director only and return the number of movies/TV shows that contain that name. Your function should meet the following requirements: \n",
    "\n",
    "- Your function should receive any name as an input string and return a simple message with the number of movies/TV shows that contain those names. E.g.  There are 5 directors named [supplied name] in this dataset.\n",
    "- If the name supplied were not found in the database, return the message No directors were found with the name: [supplied name]\n",
    "- Remember to deal with whatever letter case you are supplied i.e.  all caps or all lowercase, etc.\n",
    "- Test your function with the word Paul and confirm that your result reads  There are [67] directors named [Paul] in this dataset."
   ]
  },
  {
   "cell_type": "code",
   "execution_count": 165,
   "id": "7775a25b",
   "metadata": {},
   "outputs": [
    {
     "name": "stdout",
     "output_type": "stream",
     "text": [
      "Please enter the name of a director: paul\n",
      "The number of movies/TV shows that contain paul is: 67\n"
     ]
    }
   ],
   "source": [
    "name = input('Please enter the name of a director: ')\n",
    "x = df[df['director'].str.contains(name, case = False, na= False)]\n",
    "count = x.title.count()\n",
    "if count > 0:\n",
    "    print('The number of movies/TV shows that contain', name,'is:', count)\n",
    "else:\n",
    "    print('No directors were found with the name:',name)"
   ]
  },
  {
   "cell_type": "markdown",
   "id": "ccf51939",
   "metadata": {},
   "source": [
    "# Exercise Three"
   ]
  },
  {
   "cell_type": "markdown",
   "id": "09d54cc0",
   "metadata": {},
   "source": [
    "#### Identify the most common words in the description of TOP TEN LONGEST MOVIES ONLY from the dataset.  Please write down the 20 most common words you identify from the description of top ten longest movies.\n",
    "\n",
    "#### Hint: Remember that you are only interested in the top 10 longest movies.\n",
    "\n",
    "\n",
    "#### You will have to go online and FIND OUT HOW TO DO THIS! Find and use the learning resources out there on the internet and modify them for your purpose. Make sure to Include links/references you consulted to your final submission."
   ]
  },
  {
   "cell_type": "markdown",
   "id": "99ea3102",
   "metadata": {},
   "source": [
    "#### https://stackoverflow.com/questions/29903025/count-most-frequent-100-words-from-sentences-in-dataframe-pandas"
   ]
  },
  {
   "cell_type": "code",
   "execution_count": 184,
   "id": "7762b168",
   "metadata": {},
   "outputs": [
    {
     "data": {
      "text/plain": [
       "[('a', 8819),\n",
       " ('the', 6814),\n",
       " ('to', 5566),\n",
       " ('and', 5565),\n",
       " ('of', 4691),\n",
       " ('in', 3268),\n",
       " ('his', 2998),\n",
       " ('with', 1870),\n",
       " ('her', 1797),\n",
       " ('for', 1543),\n",
       " ('an', 1487),\n",
       " ('their', 1461),\n",
       " ('on', 1448),\n",
       " ('A', 1315),\n",
       " ('from', 1031),\n",
       " ('is', 984),\n",
       " ('as', 926),\n",
       " ('by', 889),\n",
       " ('this', 858),\n",
       " ('he', 762)]"
      ]
     },
     "execution_count": 184,
     "metadata": {},
     "output_type": "execute_result"
    }
   ],
   "source": [
    "df_longestfilms = df.nlargest(10,'duration_min')\n",
    "\n",
    "from collections import Counter\n",
    "mostcommon = Counter(\" \".join(df[\"description\"]).split()).most_common(20)\n",
    "\n",
    "list(mostcommon)"
   ]
  },
  {
   "cell_type": "markdown",
   "id": "03fe38f7",
   "metadata": {},
   "source": [
    "# Exercise Four"
   ]
  },
  {
   "cell_type": "markdown",
   "id": "f944498e",
   "metadata": {},
   "source": [
    "Write a function to receive a cast name as input, search the dataset and return information about \n",
    "that actor from the database. Your function should meet the following requirements:\n",
    "- Your function should receive an actor name as an input string and return\n",
    "    - (1) their average movie duration rounded up to a whole number, and\n",
    "    - (2) a list of their movies from the list.\n",
    "- If the actor name supplied is not found in the database, return the message: No movie found for the artist: [supplied actor name]. E.g, If I search for an artist named Jennifer Lopez, the function should return: No movie found for the artist: Jennifer Lopez (this is an example!!).\n",
    "- Remember to deal with whatever letter case you are supplied i.e. all caps or all lowercase, etc.\n",
    "- Remember to consider the file type of EVERY row of information when writing out your function."
   ]
  },
  {
   "cell_type": "code",
   "execution_count": 170,
   "id": "ebb18bdc",
   "metadata": {},
   "outputs": [
    {
     "name": "stdout",
     "output_type": "stream",
     "text": [
      "Please enter the name of an actor: jennifer lopez\n",
      "The average movie duration of jennifer lopez is: 99.33333333333333\n",
      "The list of movies/TV shows that casts the name jennifer lopez, is shown below:\n"
     ]
    },
    {
     "data": {
      "text/html": [
       "<div>\n",
       "<style scoped>\n",
       "    .dataframe tbody tr th:only-of-type {\n",
       "        vertical-align: middle;\n",
       "    }\n",
       "\n",
       "    .dataframe tbody tr th {\n",
       "        vertical-align: top;\n",
       "    }\n",
       "\n",
       "    .dataframe thead th {\n",
       "        text-align: right;\n",
       "    }\n",
       "</style>\n",
       "<table border=\"1\" class=\"dataframe\">\n",
       "  <thead>\n",
       "    <tr style=\"text-align: right;\">\n",
       "      <th></th>\n",
       "      <th>Unnamed: 0</th>\n",
       "      <th>show_id</th>\n",
       "      <th>type</th>\n",
       "      <th>title</th>\n",
       "      <th>director</th>\n",
       "      <th>cast</th>\n",
       "      <th>country</th>\n",
       "      <th>rating</th>\n",
       "      <th>release_year</th>\n",
       "      <th>year_added</th>\n",
       "      <th>duration_min</th>\n",
       "      <th>number_of_seasons</th>\n",
       "      <th>listed_in</th>\n",
       "      <th>description</th>\n",
       "    </tr>\n",
       "  </thead>\n",
       "  <tbody>\n",
       "    <tr>\n",
       "      <th>516</th>\n",
       "      <td>517</td>\n",
       "      <td>s518</td>\n",
       "      <td>Movie</td>\n",
       "      <td>Angel Eyes</td>\n",
       "      <td>Luis Mandoki</td>\n",
       "      <td>Jennifer Lopez, Jim Caviezel, Sonia Braga, Ter...</td>\n",
       "      <td>United States</td>\n",
       "      <td>R</td>\n",
       "      <td>2001</td>\n",
       "      <td>2020</td>\n",
       "      <td>103.0</td>\n",
       "      <td>NaN</td>\n",
       "      <td>Dramas, Romantic Movies</td>\n",
       "      <td>When a violent assault leaves her vulnerable, ...</td>\n",
       "    </tr>\n",
       "    <tr>\n",
       "      <th>3634</th>\n",
       "      <td>3641</td>\n",
       "      <td>s3642</td>\n",
       "      <td>Movie</td>\n",
       "      <td>Lila &amp; Eve</td>\n",
       "      <td>Charles Stone III</td>\n",
       "      <td>Viola Davis, Jennifer Lopez, Andre Royo, Shea ...</td>\n",
       "      <td>United States</td>\n",
       "      <td>R</td>\n",
       "      <td>2015</td>\n",
       "      <td>2016</td>\n",
       "      <td>94.0</td>\n",
       "      <td>NaN</td>\n",
       "      <td>Dramas, Thrillers</td>\n",
       "      <td>After each of them loses a child to murder, tw...</td>\n",
       "    </tr>\n",
       "    <tr>\n",
       "      <th>4194</th>\n",
       "      <td>4202</td>\n",
       "      <td>s4203</td>\n",
       "      <td>Movie</td>\n",
       "      <td>Monster-in-Law</td>\n",
       "      <td>Robert Luketic</td>\n",
       "      <td>Jennifer Lopez, Jane Fonda, Michael Vartan, Wa...</td>\n",
       "      <td>United States, Germany</td>\n",
       "      <td>PG-13</td>\n",
       "      <td>2005</td>\n",
       "      <td>2020</td>\n",
       "      <td>101.0</td>\n",
       "      <td>NaN</td>\n",
       "      <td>Comedies, Romantic Movies</td>\n",
       "      <td>An office temp thinks she's found Mr. Right wh...</td>\n",
       "    </tr>\n",
       "  </tbody>\n",
       "</table>\n",
       "</div>"
      ],
      "text/plain": [
       "      Unnamed: 0 show_id   type           title           director  \\\n",
       "516          517    s518  Movie      Angel Eyes       Luis Mandoki   \n",
       "3634        3641   s3642  Movie      Lila & Eve  Charles Stone III   \n",
       "4194        4202   s4203  Movie  Monster-in-Law     Robert Luketic   \n",
       "\n",
       "                                                   cast  \\\n",
       "516   Jennifer Lopez, Jim Caviezel, Sonia Braga, Ter...   \n",
       "3634  Viola Davis, Jennifer Lopez, Andre Royo, Shea ...   \n",
       "4194  Jennifer Lopez, Jane Fonda, Michael Vartan, Wa...   \n",
       "\n",
       "                     country rating  release_year  year_added  duration_min  \\\n",
       "516            United States      R          2001        2020         103.0   \n",
       "3634           United States      R          2015        2016          94.0   \n",
       "4194  United States, Germany  PG-13          2005        2020         101.0   \n",
       "\n",
       "      number_of_seasons                  listed_in  \\\n",
       "516                 NaN    Dramas, Romantic Movies   \n",
       "3634                NaN          Dramas, Thrillers   \n",
       "4194                NaN  Comedies, Romantic Movies   \n",
       "\n",
       "                                            description  \n",
       "516   When a violent assault leaves her vulnerable, ...  \n",
       "3634  After each of them loses a child to murder, tw...  \n",
       "4194  An office temp thinks she's found Mr. Right wh...  "
      ]
     },
     "execution_count": 170,
     "metadata": {},
     "output_type": "execute_result"
    }
   ],
   "source": [
    "castname = input(\"Please enter the name of an actor: \")\n",
    "y = df[df['cast'].str.contains(castname, case = False, na= False)]\n",
    "avgdur = y['duration_min'].mean()\n",
    "if y.empty:\n",
    "    print('No movie found for the actor',castname)\n",
    "else:\n",
    "    print('The average movie duration of',castname, 'is:',avgdur)\n",
    "    print('The list of movies/TV shows that casts the name ',castname,', is shown below:', sep = '')\n",
    "    yy = y\n",
    "yy"
   ]
  },
  {
   "cell_type": "markdown",
   "id": "6448a98c",
   "metadata": {},
   "source": [
    "# Exercise Extra"
   ]
  },
  {
   "cell_type": "markdown",
   "id": "02ef732f",
   "metadata": {},
   "source": [
    "#### Using a python graph library select one or two diagrams that will represent in the best way one of the exercises completed above. "
   ]
  },
  {
   "cell_type": "code",
   "execution_count": 198,
   "id": "3a84d6df",
   "metadata": {},
   "outputs": [
    {
     "data": {
      "image/png": "[encoded data removed]",
      "text/plain": [
       "<Figure size 1224x360 with 1 Axes>"
      ]
     },
     "metadata": {
      "needs_background": "light"
     },
     "output_type": "display_data"
    }
   ],
   "source": [
    "countries = df.nlargest(15,'release_year').groupby(['country']).count()\n",
    "a = [item[0] for item in mostcommon]\n",
    "b = [item[1] for item in mostcommon]\n",
    "\n",
    "plt.figure(figsize = (17,5))\n",
    "plt.bar(a,b)\n",
    "plt.title('Top 20 Words Most Occuring Words in the Descriptions of the Top 10 Longest Films', size = 16)\n",
    "plt.xticks(rotation = 'horizontal')\n",
    "plt.xlabel('Word', size = 14)\n",
    "plt.ylabel('Number of Occurences', size = 14)\n",
    "plt.grid()\n",
    "plt.show()"
   ]
  }
 ],
 "metadata": {
  "kernelspec": {
   "display_name": "Python 3 (ipykernel)",
   "language": "python",
   "name": "python3"
  },
  "language_info": {
   "codemirror_mode": {
    "name": "ipython",
    "version": 3
   },
   "file_extension": ".py",
   "mimetype": "text/x-python",
   "name": "python",
   "nbconvert_exporter": "python",
   "pygments_lexer": "ipython3",
   "version": "3.9.7"
  }
 },
 "nbformat": 4,
 "nbformat_minor": 5
}
